{
 "cells": [
  {
   "cell_type": "markdown",
   "metadata": {
    "id": "tOIU9SaeIAz-"
   },
   "source": [
    "# <center>Centro Universitário Facens<br/></center>\n",
    "<br/>\n",
    "<font size=\"4\"><center><b>Disciplina: Processamento de imagens</b></center></font>\n",
    "  \n",
    "<font size=\"3\"><center>Prof. Dr. Renato M. Silva</center></font>\n",
    "<br/>\n",
    "<br/>\n",
    "\n",
    "## <center>Avaliação Continuada 2 (AC2)</center>\n"
   ]
  },
  {
   "cell_type": "markdown",
   "metadata": {},
   "source": [
    "----\n",
    "#### <center>RA, Turma e nome dos componentes do grupo</center>\n",
    "\n",
    "    \n",
    "| RA       | Turma        |      Nome     | \n",
    "|:-        |:-            |:-------------:|\n",
    "|          |              |               |  \n",
    "|          |              |               |  \n",
    "|          |              |               |  \n",
    "|          |              |               |  \n",
    "|          |              |               |  \n",
    "    "
   ]
  },
  {
   "cell_type": "markdown",
   "metadata": {},
   "source": [
    "----\n",
    "### Instruções\n",
    "\n",
    "**1**. Leia atentamente esta seção e as descrições de cada exercício para garantir que você está executando o que foi pedido.\n",
    "- O não atendimento de qualquer item descrito, implicará perda de nota.\n",
    "\n",
    "**2**. O trabalho pode ser feito em grupos de no mínimo 2 pessoas e no máximo 5 pessoas.\n",
    " - Apenas uma pessoa do grupo deve submeter o trabalho. \n",
    " - Você deve submeter apenas o arquivo .ipynb.\n",
    " - O grupo poderá ser composto por pessoas de qualquer uma das três turmas de processamento de imagens\n",
    " \n",
    "**3**. Siga boas práticas de programação:\n",
    "- dar nomes intuitivos para as variáveis\n",
    "- dar nomes intuitivos para as funções\n",
    "- comentar o código sempre que necessário\n",
    "\n",
    "**4**. Cuidado com plágio. Se for detectado plágio entre grupos, a punição será dada para todos os componentes dos grupos envolvidos. \n",
    "\n",
    "**5**. Antes de submeter o notebook, certifique-se que não há erros de código. Uma forma de se certificar disso é usar a opção **\"Reiniciar Kernel e executar todas as células\"** do Jupyter ou a opção **\"Reiniciar e executar tudo\"** do Google Colab. \n",
    "\n",
    "**6**. A única biblioteca de processamento de imagens permitida neste trabalho é a **OpenCV**. Porém, alguns exercícios poderão limitar algumas funções dessa biblioteca que poderão ser usadas. \n",
    "- Mesmo nos exercícios que limitam o uso de funções da OpenCV, considere que as operações básicas como abrir, transformar para outro formato de cor e salvar, podem ser feitas com as funções da biblioteca.\n",
    "\n",
    "**7**. Em todos os exercícios que pedirem para salvar a imagem resultante, tome cuidado de converter a imagem para BGR antes de salvá-la pois esse é o formato padrão da biblioteca OpenCV. Caso contrário, os canais de cores da imagem resultante ficarão trocados. \n",
    "\n",
    "**8**. Em todos os exercícios, plote na tela as mesmas imagens que o exercício pedir para salvar. \n",
    "- Não é permitido usar a função cv2.imshow() para plotar as imagens. Essa regra é para evitar incompatibilidade e prejudicar a correção. Sempre use a biblioteca matplotlib.\n",
    "\n",
    "**9**. Em todos os exercícios, as imagens finais solicitadas devem estar no formato **uint8**.\n",
    "\n",
    "**10**. Em todos os exercícios você deve tratar tons de cinza inválidos usando a técnica de saturação, há não ser que seja explicitamente pedida outra técnica. Sempre tome cuidado para que as operações executadas não causem desequilíbrio de cores."
   ]
  },
  {
   "cell_type": "markdown",
   "metadata": {
    "tags": []
   },
   "source": [
    "----\n",
    "## Preparação \n",
    "\n",
    "Abaixo são inicializadas as bibliotecas e é definido o caminho das pasta **figs** onde estão as imagens usadas em cada exercício. É definido também o caminho da pasta **figs_resultado**, onde você deve salvar as imagens resultantes. \n",
    "\n",
    "Se for necessário, você pode alterar a variável que define esse caminho, porém use ela em todos os exercícios. "
   ]
  },
  {
   "cell_type": "code",
   "execution_count": 4,
   "metadata": {
    "tags": []
   },
   "outputs": [],
   "source": [
    "import matplotlib.pyplot as plt\n",
    "import cv2\n",
    "import numpy as np\n",
    "import os\n",
    "\n",
    "pathFigs = \"figs/\" # path das imagens que devem ser usadas\n",
    "pathRes = \"figs_resultado/\" # path da pasta onde as imagens devem ser salvas\n",
    "\n",
    "# Cria uma pasta onde as imagens devem ser salvas, se ela não existir\n",
    "if not os.path.isdir(pathRes):\n",
    "    os.mkdir(pathRes)"
   ]
  },
  {
   "cell_type": "markdown",
   "metadata": {
    "tags": []
   },
   "source": [
    "----\n",
    "## Exercicio 1\n",
    "Faça uma função que receba dois parâmetros:\n",
    " - **imagem1**: uma imagem monocromática ou RGB\n",
    " - **imagem2**: uma imagem do mesmo tamanho que a imagem anterior, mas que seja toda preta e que possua apenas um retângulo na cor branca\n",
    "    \n",
    "Essa função deve retornar qual a quantidade mínima total de bytes que seria necessário para representar a região da **imagem1** que está localizada na mesma posição do retângulo da **imagem2**.\n",
    "\n",
    "Teste sua função usando as imagens **figs/natureza.jpeg** e **figs/natureza_regiao.jpeg**.\n",
    "\n",
    "Obs: não é permitido usar nenhuma função pronta da biblioteca OpenCV. "
   ]
  },
  {
   "cell_type": "code",
   "execution_count": 2,
   "metadata": {},
   "outputs": [
    {
     "name": "stdout",
     "output_type": "stream",
     "text": [
      "oi\n"
     ]
    }
   ],
   "source": []
  },
  {
   "cell_type": "markdown",
   "metadata": {
    "tags": []
   },
   "source": [
    "----\n",
    "## Exercicio 2\n",
    "\n",
    "Use as imagens **figs/procurado.jpg** e **figs/tripaSeca.png** para criar um cartaz de procurado igual ao apresentado na imagem na imagem **figs/tripaSeca_procurado.png**.\n",
    "\n",
    "Você pode aplicar qualquer técnica aprendida na disciplina e qualquer sequência de operações para chegar no resultado esperado. Porém, sugere-se a seguinte sequência:\n",
    "- Remova o texto do cartaz usando máscara de cor, conforme ensinado no notebook de operações aritméticas. Porém, em vez de aplicar na imagem inteira, selecione apenas a região onde está o texto para facilitar. \n",
    "- Ao remover o texto, ficarão marcas do texto antigo. Para removê-las, aplique algum filtro passa-baixa. \n",
    "- Adicione o texto novo usando a função putText da OpenCV\n",
    "- Aplique um novo filtro passa-baixa para que a imagem do cartaz fique um pouco borrada de forma a similar a foto do personagem. \n",
    "- Aumente a imagem **figs/tripaSeca.png** para o rosto do personagem caber na região adequada da imagem **figs/procurado.jpg**. \n",
    "- Aplique equalização no rosto do personagem\n",
    "- Adicione o rosto do personagem no cartaz\n",
    "\n",
    "Salve a imagem resultante no caminho **figs_resultado/ex02_tripaSeca_procurado.png**"
   ]
  },
  {
   "cell_type": "code",
   "execution_count": 2,
   "metadata": {},
   "outputs": [
    {
     "ename": "error",
     "evalue": "OpenCV(4.9.0) D:\\a\\opencv-python\\opencv-python\\opencv\\modules\\imgproc\\src\\color.cpp:196: error: (-215:Assertion failed) !_src.empty() in function 'cv::cvtColor'\n",
     "output_type": "error",
     "traceback": [
      "\u001b[1;31m---------------------------------------------------------------------------\u001b[0m",
      "\u001b[1;31merror\u001b[0m                                     Traceback (most recent call last)",
      "Cell \u001b[1;32mIn[2], line 6\u001b[0m\n\u001b[0;32m      3\u001b[0m \u001b[38;5;28;01mimport\u001b[39;00m \u001b[38;5;21;01mnumpy\u001b[39;00m \u001b[38;5;28;01mas\u001b[39;00m \u001b[38;5;21;01mnp\u001b[39;00m\n\u001b[0;32m      5\u001b[0m image_background \u001b[38;5;241m=\u001b[39m cv2\u001b[38;5;241m.\u001b[39mimread(\u001b[38;5;124m\"\u001b[39m\u001b[38;5;124mAC2/figs/procurado.jpg\u001b[39m\u001b[38;5;124m\"\u001b[39m)\n\u001b[1;32m----> 6\u001b[0m background_rgb \u001b[38;5;241m=\u001b[39m \u001b[43mcv2\u001b[49m\u001b[38;5;241;43m.\u001b[39;49m\u001b[43mcvtColor\u001b[49m\u001b[43m(\u001b[49m\u001b[43mimage_background\u001b[49m\u001b[43m,\u001b[49m\u001b[43m \u001b[49m\u001b[43mcv2\u001b[49m\u001b[38;5;241;43m.\u001b[39;49m\u001b[43mCOLOR_BGR2RGB\u001b[49m\u001b[43m)\u001b[49m\n\u001b[0;32m      9\u001b[0m \u001b[38;5;28;01mdef\u001b[39;00m \u001b[38;5;21mnormalize_image\u001b[39m(image, crop, threshold, channel, replacement_color):\n\u001b[0;32m     11\u001b[0m     cropped_img \u001b[38;5;241m=\u001b[39m image[crop[\u001b[38;5;241m0\u001b[39m] : crop[\u001b[38;5;241m1\u001b[39m], crop[\u001b[38;5;241m2\u001b[39m] : crop[\u001b[38;5;241m3\u001b[39m]]\n",
      "\u001b[1;31merror\u001b[0m: OpenCV(4.9.0) D:\\a\\opencv-python\\opencv-python\\opencv\\modules\\imgproc\\src\\color.cpp:196: error: (-215:Assertion failed) !_src.empty() in function 'cv::cvtColor'\n"
     ]
    }
   ],
   "source": [
    "import cv2\n",
    "import matplotlib.pyplot as plt\n",
    "import numpy as np\n",
    "\n",
    "image_background = cv2.imread(\"figs/procurado.jpg\")\n",
    "background_rgb = cv2.cvtColor(image_background, cv2.COLOR_BGR2RGB)\n",
    "\n",
    "\n",
    "def normalize_image(image, crop, threshold, channel, replacement_color):\n",
    "\n",
    "    cropped_img = image[crop[0] : crop[1], crop[2] : crop[3]]\n",
    "\n",
    "    # verifica se os pixeeis do canal RGB informado é menor que o threshold\n",
    "    mask = cropped_img[:, :, channel] < threshold\n",
    "    cropped_img[mask] = replacement_color\n",
    "\n",
    "    blurred_img = cv2.GaussianBlur(cropped_img, ksize=(33, 33), sigmaX=14, sigmaY=None)\n",
    "\n",
    "    image[crop[0] : crop[1], crop[2] : crop[3]] = blurred_img\n",
    "\n",
    "    return image\n",
    "\n",
    "\n",
    "imageBlank1 = normalize_image(\n",
    "    background_rgb,\n",
    "    crop=(83, 181, 313, 664),\n",
    "    threshold=140,\n",
    "    channel=0,\n",
    "    replacement_color=[243, 231, 217],\n",
    ")\n",
    "\n",
    "imageBlank2 = normalize_image(\n",
    "    imageBlank1,\n",
    "    crop=(205, 268, 296, 687),\n",
    "    threshold=140,\n",
    "    channel=0,\n",
    "    replacement_color=[243, 231, 217],\n",
    ")\n",
    "imageBlank3 = normalize_image(\n",
    "    imageBlank2,\n",
    "    crop=(795, 888, 259, 749),\n",
    "    threshold=140,\n",
    "    channel=0,\n",
    "    replacement_color=[233, 217, 201],\n",
    ")\n",
    "\n",
    "cv2.putText(\n",
    "    imageBlank3,\n",
    "    \"PROCURADO\",\n",
    "    (325, 150),\n",
    "    cv2.FONT_HERSHEY_DUPLEX,\n",
    "    fontScale=1.8,\n",
    "    color=(109, 73, 51),\n",
    "    thickness=6,\n",
    ")\n",
    "cv2.putText(\n",
    "    imageBlank3,\n",
    "    \"VIVO OU MORTO\",\n",
    "    (319, 220),\n",
    "    cv2.FONT_HERSHEY_DUPLEX,\n",
    "    fontScale=1.4,\n",
    "    color=(109, 73, 51),\n",
    "    thickness=6,\n",
    ")\n",
    "cv2.putText(\n",
    "    imageBlank3,\n",
    "    \"RECOMPENSA R$50000\",\n",
    "    (210, 870),\n",
    "    cv2.FONT_HERSHEY_DUPLEX,\n",
    "    fontScale=1.6,\n",
    "    color=(109, 73, 51),\n",
    "    thickness=6,\n",
    ")\n",
    "\n",
    "image_tripaSeca = cv2.imread(\"AC2/figs/tripaSeca.png\")\n",
    "image_tripaSeca_RGB = cv2.cvtColor(image_tripaSeca, cv2.COLOR_BGR2RGB)\n",
    "crop_tripaSeca = image_tripaSeca_RGB[46:198, 350:498]\n",
    "x, y = 766 - 230, 778 - 292\n",
    "# Redimensiona a imagem para ter o mesmo tamanho do quadro da imagem de fundo\n",
    "crop_tripaSeca = cv2.resize(crop_tripaSeca, (x, y))\n",
    "crop_tripaSeca = cv2.convertScaleAbs(crop_tripaSeca, alpha=1.2, beta=7)\n",
    "crop_tripaSeca = cv2.GaussianBlur(crop_tripaSeca, ksize=(5, 5), sigmaX=0.5)\n",
    "\n",
    "imageBlank3[292:778, 230:766] = crop_tripaSeca\n",
    "\n",
    "\n",
    "plt.axis('off')\n",
    "plt.imshow(imageBlank3)\n",
    "plt.savefig(\"figs_resultado/ex02_tripaSeca_procurado.png\")\n"
   ]
  },
  {
   "cell_type": "markdown",
   "metadata": {},
   "source": [
    "----\n",
    "## Exercicio 3\n",
    "\n",
    "Remova o ruído da imagem **figs/faculdade.png** usando operações morfológicas. O resultado mínimo esperado é apresentado na imagem **figs/faculdade_corrigida.png**. \n",
    "\n",
    "Salve a imagem resultante no caminho **figs_resultado/ex03.png**."
   ]
  },
  {
   "cell_type": "code",
   "execution_count": null,
   "metadata": {},
   "outputs": [],
   "source": []
  },
  {
   "cell_type": "markdown",
   "metadata": {},
   "source": [
    "----\n",
    "## Exercicio 4\n",
    "\n",
    "Crie uma matriz usando a biblioteca numpy. Depois, transforme essa matriz em uma imagem que corresponda a bandeira mostrada na figura **figs/bandeira.png**\n",
    " \n",
    "Para gerar a bandeira, você poderá fazer apenas as seguintes operações:\n",
    "\n",
    "- operações morfológicas nos símbolos contidos na imagem **figs/simbolos.png**;\n",
    "- operações aritméticas entre a matriz e os símbolos contidos na imagem **figs/simbolos.png**; \n",
    "- operações matriciais, tanto para gerar e transformar cores, quanto para gerar os retângulos que fazem parte da bandeira.\n",
    "\n",
    "Salve a imagem resultante no caminho **figs_resultado/ex04_bandeira.png**\n",
    "\n",
    "Obs: as únicas funções prontas da biblioteca OpenCV que podem ser usadas neste exercícios são as que executam operações morfológicas."
   ]
  },
  {
   "cell_type": "markdown",
   "metadata": {},
   "source": [
    "----\n",
    "## Exercicio 5\n",
    "\n",
    "Crie uma função que receba uma imagem e modifique ela para que fique quadrada. Se a imagem estiver na orientação paisagem, você precisará adicionar espaço na parte superior e inferior. Da mesma forma, para retrato (mais alto que largo), você adicionará espaço nas laterais. Certifique-se de que seu programa centralize a imagem entre o espaço.\n",
    "\n",
    "Para preecher o novo espaço, você deverá testar apresentar as duas variações a seguir:\n",
    "- Supondo que o novo espaço possua uma quantidade de $n$ linhas ou colunas, você deverá preenchê-lo com as $n$ linhas ou colunas vizinhas da imagem. Depois disso, você deverá aplicar uma filtro de média nessa região. \n",
    " - Você deverá criar seu próprio filtro de média. Não é permitido usar nenhuma função pronta para isso. Considere sempre que será criado padding na imagem para que o filtro resulte em uma imagem do mesmo tamanho. Considere também que a máscara sempre será quadrada e com tamanho ímpar. \n",
    "\n",
    "- Supondo que o novo espaço possua uma quantidade de $n$ linhas ou colunas, você deverá preencher com a média de todos os valores RGB das $n$ linhas ou colunas vizinhas da imagem.\n",
    "\n",
    "Teste a função nas imagens **figs/praia.jpg** e **figs/houses.jpg**. \n",
    "Salve as imagens resultante nos caminhos **figs_resultado/ex05_praia.png** e **figs_resultado/ex05_houses.png**.\n",
    "\n",
    "Obs. Neste exercício, não é permitido usar usada nenhuma função pronta da OpenCV. Além disso, as únicas funções prontas do Numpy que podem ser usada são np.pad, np.mean, np.sum, np.ones e np.zeros. "
   ]
  },
  {
   "cell_type": "code",
   "execution_count": null,
   "metadata": {},
   "outputs": [],
   "source": []
  },
  {
   "cell_type": "markdown",
   "metadata": {},
   "source": [
    "----\n",
    "## Exercicio 6\n",
    "\n",
    "Separe os círculos das linhas na **figs/circulos_retas.png**. Salve as imagens resultantes nos caminhos **figs_resultado/circulo.png** e **figs_resultado/linha.png**. A imagem **figs_resultado/ex06_circulo.png** deve conter apenas círculos e a imagem **figs_resultado/ex06_linha.png** deve conter apenas linhas. Para conseguir separar os objetos, você só pode aplicar operações morfológicas e operações aritméticas (soma, subtração, etc). \n",
    " - Não é permitido usar limiarização para resolver o problema\n",
    "\n",
    "Obs. A biblioteca OpenCV só pode ser usada para criar erosão ou dilatação. Qualquer outra operação morfológica deve ser feita combinando erosão ou dilatação, sem usar nenhuma função pronta."
   ]
  },
  {
   "cell_type": "code",
   "execution_count": null,
   "metadata": {},
   "outputs": [],
   "source": []
  },
  {
   "cell_type": "markdown",
   "metadata": {},
   "source": [
    "----\n",
    "## Exercicio 7\n",
    "\n",
    "Com base nas noções de vizinhança, adjacência e componentes conexos ensinados na disciplina, crie uma função que receba uma imagem com cores preto e branco e conte quando objetos brancos existem nela. Considere uma conectividade-4. \n",
    "\n",
    "Teste sua função na imagem **figs/circles.png**"
   ]
  },
  {
   "cell_type": "code",
   "execution_count": null,
   "metadata": {},
   "outputs": [],
   "source": []
  },
  {
   "cell_type": "markdown",
   "metadata": {},
   "source": [
    "----\n",
    "## Exercicio 8\n",
    "\n",
    "Extraia os contornos da rachadura da imagem **figs/rachadura.jpg**. Para isso, é permitido aplicar apenas as seguintes operações: alguma técnica de segmentação, alguma técnica de limiarização automática e algum filtro. \n",
    " - Limite-se aos métodos ensinados na disciplina\n",
    " \n",
    "O resultado mínimo esperado é apresentado na imagem **figs_resultado/rachadura_contorno.png**"
   ]
  },
  {
   "cell_type": "code",
   "execution_count": null,
   "metadata": {},
   "outputs": [],
   "source": []
  }
 ],
 "metadata": {
  "colab": {
   "name": "brincando_imagens.ipynb",
   "provenance": []
  },
  "kernelspec": {
   "display_name": "Python 3 (ipykernel)",
   "language": "python",
   "name": "python3"
  },
  "language_info": {
   "codemirror_mode": {
    "name": "ipython",
    "version": 3
   },
   "file_extension": ".py",
   "mimetype": "text/x-python",
   "name": "python",
   "nbconvert_exporter": "python",
   "pygments_lexer": "ipython3",
   "version": "3.12.2"
  }
 },
 "nbformat": 4,
 "nbformat_minor": 4
}
